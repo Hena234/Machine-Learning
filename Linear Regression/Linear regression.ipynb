{
  "nbformat": 4,
  "nbformat_minor": 0,
  "metadata": {
    "colab": {
      "provenance": []
    },
    "kernelspec": {
      "name": "python3",
      "display_name": "Python 3"
    },
    "language_info": {
      "name": "python"
    }
  },
  "cells": [
    {
      "cell_type": "markdown",
      "source": [
        "# QUESTION 1"
      ],
      "metadata": {
        "id": "jcdYTeTaYSwS"
      }
    },
    {
      "cell_type": "code",
      "source": [
        "import numpy as np\n",
        "import pandas as pd\n",
        "def Data_set(n,s,m):\n",
        "\n",
        "    x=np.random.rand(n,m-1)\n",
        "    x1=np.ones((n,1)) #first column\n",
        "    h=np.concatenate((x1,x),axis=1) #n*m array of independent variables\n",
        "    beta=np.random.rand(m,1)\n",
        "    y=np.matmul(h,beta)+np.random.normal(0,s,size=(n,1)) #generating y\n",
        "    mat=np.concatenate((h,y),axis=1)\n",
        "    matrix=pd.DataFrame(\n",
        "        data=mat,columns=  [f\"x{i+1}\" for i in range(m)]+[\"y\"]\n",
        "    )\n",
        "\n",
        "    return matrix,h,y,beta\n",
        "\n",
        "m=5\n",
        "n=70\n",
        "s=0.5\n",
        "\n",
        "matrix, h, y,beta = Data_set(n,s,m)\n",
        "matrix ,beta"
      ],
      "metadata": {
        "colab": {
          "base_uri": "https://localhost:8080/"
        },
        "id": "f2lOmpNqyJxQ",
        "outputId": "4633331d-29dd-48f0-bf49-1d981222924e"
      },
      "execution_count": null,
      "outputs": [
        {
          "output_type": "execute_result",
          "data": {
            "text/plain": [
              "(     x1        x2        x3        x4        x5         y\n",
              " 0   1.0  0.797473  0.395097  0.415818  0.091684  0.939979\n",
              " 1   1.0  0.166466  0.711600  0.050381  0.683216  1.838270\n",
              " 2   1.0  0.662974  0.370145  0.731760  0.947412  1.760792\n",
              " 3   1.0  0.013221  0.952787  0.656987  0.988602  1.521773\n",
              " 4   1.0  0.546540  0.446419  0.182894  0.146553  2.103980\n",
              " ..  ...       ...       ...       ...       ...       ...\n",
              " 65  1.0  0.580266  0.263538  0.220865  0.057816  0.900825\n",
              " 66  1.0  0.909224  0.387583  0.291577  0.586626  2.208921\n",
              " 67  1.0  0.052414  0.994205  0.345071  0.560033  1.585698\n",
              " 68  1.0  0.716452  0.606566  0.564809  0.278803  3.648051\n",
              " 69  1.0  0.520017  0.711256  0.133113  0.500018  0.474419\n",
              " \n",
              " [70 rows x 6 columns],\n",
              " array([[0.69332555],\n",
              "        [0.86921627],\n",
              "        [0.50614535],\n",
              "        [0.18383463],\n",
              "        [0.15873993]]))"
            ]
          },
          "metadata": {},
          "execution_count": 19
        }
      ]
    },
    {
      "cell_type": "markdown",
      "source": [
        "# QUESTION 2"
      ],
      "metadata": {
        "id": "D5AjwwozYZEL"
      }
    },
    {
      "cell_type": "code",
      "source": [
        "def linear_regression(h,y,ler,iter,threshold):\n",
        "\n",
        "   beta_pred=np.random.rand(m,1)\n",
        "\n",
        "\n",
        "   for i in range(iter):\n",
        "    y_pred=np.matmul(h,beta_pred)   #finding pridicted value of y\n",
        "    cost = (1 / n) * (np.sum(y_pred - y)**2)   #calculating cost\n",
        "    beta_pred  = beta_pred - (ler * ((1/n)*np.matmul(h.T, y_pred - y)))\n",
        "    y_pred_p=np.matmul(h,beta_pred)      #to find next y_pred and cost\n",
        "    costp = (1 /n) * (np.sum(y_pred_p - y)**2)\n",
        "    if(abs(costp-cost)<threshold):  #assigning threshold\n",
        "      break\n",
        "\n",
        "   return(y_pred,beta_pred,cost)\n",
        "\n",
        "\n",
        "ler=0.001\n",
        "iter=100000\n",
        "threshold=0.003\n",
        "y_pred,beta_pred,cost=linear_regression(h,y,ler,iter,threshold)\n",
        "beta_pred,cost\n",
        "\n",
        "\n"
      ],
      "metadata": {
        "id": "n8dkoWn5xTXg",
        "colab": {
          "base_uri": "https://localhost:8080/"
        },
        "outputId": "5e57c778-38da-4f7f-d9d4-b3f8e8bdcc31"
      },
      "execution_count": null,
      "outputs": [
        {
          "output_type": "execute_result",
          "data": {
            "text/plain": [
              "(array([[0.26755351],\n",
              "        [0.84052182],\n",
              "        [0.99232261],\n",
              "        [0.35615142],\n",
              "        [0.57170031]]),\n",
              " 0.12914084009571009)"
            ]
          },
          "metadata": {},
          "execution_count": 20
        }
      ]
    },
    {
      "cell_type": "markdown",
      "source": [
        "# QUES 3, PART A(CHANGING N)\n",
        " Adding more parameters can potentially improve the model's error by allowing it to capture more complex relationships in the data.As we can see here the error decreases as the n value increases keeping the sigma constant. However, there are potential trade-offs:\n",
        "\n",
        "Overfitting: If you add too many parameters relative to the amount of data available, the model may fit the training data too closely, capturing noise or random fluctuations. This can lead to poor generalization to new, unseen data.\n",
        "\n",
        "Computational Complexity: Training a model with more parameters can be computationally more demanding, especially if the dataset is large.\n",
        "\n",
        "Increased Risk of Multicollinearity: When adding multiple correlated features, the risk of multicollinearity increases, which can make it challenging to interpret the individual contributions of each feature."
      ],
      "metadata": {
        "id": "ABdvJvVsXgct"
      }
    },
    {
      "cell_type": "code",
      "source": [
        "import matplotlib.pyplot as plt\n",
        "def get_current_error(y_pred,y): #to calculate mean square error\n",
        "  return np.square(np.subtract(y,y_pred)).mean()\n",
        "\n",
        "error=[]\n",
        "\n",
        "for j in range(5,100,2):\n",
        "\n",
        "  matrix,h,y,beta=Data_set(j,0.5,5)\n",
        "  y_pred,beta_pred,cost=linear_regression(h,y,ler,iter,threshold)\n",
        "  error=np.append(error,get_current_error(y_pred,y)) #append errors in an array\n",
        "\n",
        "print(error)\n",
        "\n",
        "plot = plt.figure('dependence')\n",
        "plt.xlabel('error')\n",
        "plt.ylabel('N')\n",
        "plt.plot(range(5,100,2),error, color='b') #plot n vs error graph\n",
        "plot.show()"
      ],
      "metadata": {
        "colab": {
          "base_uri": "https://localhost:8080/",
          "height": 588
        },
        "id": "Q5tztHGInUCk",
        "outputId": "095abb94-f93c-428c-f75f-c46797aabe55"
      },
      "execution_count": null,
      "outputs": [
        {
          "output_type": "stream",
          "name": "stdout",
          "text": [
            "[0.24771705 5.20044281 1.98192752 0.65013585 0.75433368 0.33597853\n",
            " 0.52055828 0.78501341 0.4919506  0.30778675 0.297945   0.43839247\n",
            " 0.42618418 0.36115983 0.19362732 0.36770835 0.32849298 0.25545344\n",
            " 0.35099656 0.28691511 0.28305717 0.51900758 0.31300029 0.22484763\n",
            " 0.35708503 0.35828667 0.26907538 0.31307754 0.2574858  0.57604551\n",
            " 0.29569934 0.31602323 0.30759657 0.23120569 0.34672985 0.37833168\n",
            " 0.27197672 0.30444892 0.2445294  0.24774104 0.29318268 0.48100748\n",
            " 0.3386664  0.33159852 0.34818661 0.30699926 0.21592029 0.23093417]\n"
          ]
        },
        {
          "output_type": "display_data",
          "data": {
            "text/plain": [
              "<Figure size 640x480 with 1 Axes>"
            ],
            "image/png": "[encoded data removed]"
          },
          "metadata": {}
        }
      ]
    },
    {
      "cell_type": "markdown",
      "source": [
        "# PART B(CHANGING SIGMA)\n",
        "\n",
        " smaller σ implies less variability in the errors. This can lead to more precise estimates of the linear_linear_regression coefficients (\n",
        "β).\n",
        "\n",
        "Smaller standard deviations make it easier to distinguish the true underlying relationships between the independent and dependent variables from random noise.\n",
        "\n",
        "\n",
        "The standard errors of the linear_linear_regression coefficients are directly related to σ. Smaller σ results in smaller standard errors, which leads to narrower confidence intervals for the coefficients."
      ],
      "metadata": {
        "id": "WxgYgt8XZxWd"
      }
    },
    {
      "cell_type": "code",
      "source": [
        "import matplotlib.pyplot as plt\n",
        "def get_current_error(y_pred,y):   # function to find mean square error\n",
        "  return np.square(np.subtract(y,y_pred)).mean()\n",
        "\n",
        "error=[]\n",
        "i=0.1\n",
        "while(i<1.0): #iterate over diffrent values of sigma\n",
        "\n",
        "  matrix,h,y,beta=Data_set(70,i,5)\n",
        "  y_pred,beta_pred,cost=linear_regression(h,y,ler,iter,threshold)\n",
        "  error=np.append(error,get_current_error(y_pred,y)) #append values of errors in an array for various sigma\n",
        "  i=i+0.2\n",
        "\n",
        "print(error)\n",
        "value = np.arange(0.1,1.0,0.2)\n",
        "plot = plt.figure('dependence')\n",
        "plt.xlabel('error')\n",
        "plt.ylabel('sigma')\n",
        "plt.plot(value,error, color='b') #lot the error vs sigma graph\n",
        "plot.show()"
      ],
      "metadata": {
        "colab": {
          "base_uri": "https://localhost:8080/",
          "height": 466
        },
        "id": "OgeHrNfgVMMu",
        "outputId": "0f989c6a-8bc0-4cc2-809f-59bd7f81ac60"
      },
      "execution_count": null,
      "outputs": [
        {
          "output_type": "stream",
          "name": "stdout",
          "text": [
            "[0.14758355 0.12050187 0.23478947 0.52523219 0.78241451]\n"
          ]
        },
        {
          "output_type": "display_data",
          "data": {
            "text/plain": [
              "<Figure size 640x480 with 1 Axes>"
            ],
            "image/png": "[encoded data removed]"
          },
          "metadata": {}
        }
      ]
    }
  ]
}