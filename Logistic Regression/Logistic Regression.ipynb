{
  "cells": [
    {
      "cell_type": "markdown",
      "source": [
        "# QUESTION 1"
      ],
      "metadata": {
        "id": "fArhOuaSfyxZ"
      }
    },
    {
      "cell_type": "code",
      "execution_count": null,
      "metadata": {
        "colab": {
          "base_uri": "https://localhost:8080/"
        },
        "id": "wwv2JUwzpTZ9",
        "outputId": "62b4bdea-7272-4b70-c1bd-ecc6b86eb04e"
      },
      "outputs": [
        {
          "output_type": "execute_result",
          "data": {
            "text/plain": [
              "(    x1        x2        x3        x4        x5    y\n",
              " 0  1.0 -0.830110 -0.062624  0.667137  0.580274  1.0\n",
              " 1  1.0 -0.725644 -0.398105 -0.788340  0.865545  1.0\n",
              " 2  1.0 -0.430306  0.227284  0.889601 -0.632472  0.0\n",
              " 3  1.0  0.271251 -0.179991  0.396928  0.072129  1.0\n",
              " 4  1.0 -0.394970  0.273150  0.794855  0.497589  0.0\n",
              " 5  1.0 -0.048261  0.708946 -0.562647 -0.657897  0.0\n",
              " 6  1.0 -0.097077  0.659143  0.291217  0.707104  0.0,)"
            ]
          },
          "metadata": {},
          "execution_count": 166
        }
      ],
      "source": [
        "import numpy as np  #importing libraries\n",
        "import pandas as pd\n",
        "def Data_set_log(n,m,theta):\n",
        "\n",
        "    x=2 * np.random.random_sample(size=(n,m-1)) - 1\n",
        "    x1=np.ones((n,1)) #first column of ones\n",
        "    h=np.concatenate((x1,x),axis=1) #concat the x matrix with x1 column(to get n*m matrix)\n",
        "    beta=2 * np.random.random_sample((m,1)) - 1  #initaialising beta\n",
        "    tup=(1/(1+np.exp(-(np.matmul(h,beta)))))\n",
        "    y=[]\n",
        "    ber=np.random.binomial(1,theta,size=(n,1))  #noise (bernoulli)\n",
        "    for i in range(len(tup)):\n",
        "      if (tup[i]>0.5):   #condition to make y 0 or 1\n",
        "        y=np.append(y,[1])\n",
        "        if(ber[i]==1):\n",
        "          y[i]=0\n",
        "      else:\n",
        "       y=np.append(y,[0])\n",
        "       if(ber[i]==1):\n",
        "          y[i]=1\n",
        "\n",
        "    mat=np.concatenate((h,y.reshape(n,1)),axis=1) #concat the y column with the h matrix\n",
        "    matrix=pd.DataFrame( #creating data using pandas\n",
        "        data=mat,columns= [f\"x{i+1}\" for i in range(m)]+[\"y\"]\n",
        "    )\n",
        "    return matrix,h,theta,y,beta\n",
        "\n",
        "\n",
        "m=5\n",
        "n=7\n",
        "theta=0.7\n",
        "matrix,h,theta,y,beta= Data_set_log(n,m,theta)\n",
        "matrix, beta\n"
      ]
    },
    {
      "cell_type": "markdown",
      "source": [
        "# QUESTION 2"
      ],
      "metadata": {
        "id": "zKRy6XDcf7NK"
      }
    },
    {
      "cell_type": "code",
      "execution_count": null,
      "metadata": {
        "colab": {
          "base_uri": "https://localhost:8080/"
        },
        "id": "vaHBcBqVSf0S",
        "outputId": "746ec16c-f9d8-4acc-b4c7-e030bc3f77e9"
      },
      "outputs": [
        {
          "output_type": "execute_result",
          "data": {
            "text/plain": [
              "(array([[-0.54233817],\n",
              "        [-0.56564608],\n",
              "        [ 0.51325994],\n",
              "        [ 0.06688088],\n",
              "        [-0.44637096]]),\n",
              " 1.8721120778888285)"
            ]
          },
          "metadata": {},
          "execution_count": 167
        }
      ],
      "source": [
        "def logistic_regression(h,y,ler,iter,threshold):\n",
        "\n",
        "  beta_pred=2*np.random.rand(m,1)-1 #predicted value of beta\n",
        "  y_new = y.reshape(len(y),1) #tranpose matrix\n",
        "  for i in range(iter):\n",
        "    y_pred=(1/(1+np.exp(-(np.matmul(h,beta_pred))))) #predicted value of y\n",
        "    cost = - np.sum(np.dot(y_new.T,np.log(y_pred)+ np.dot((1-y_new).T,np.log(1-y_pred)))) /(len(y_pred)) #cost\n",
        "    beta_pred  = beta_pred - (2/n)*np.matmul(h.T, (y_pred - y.reshape(len(y),1))) #updating value of predicted beta\n",
        "\n",
        "    y_pred_p=(1/(1+np.exp(-(np.matmul(h,beta_pred))))) #next value of y_pred and cost\n",
        "    costp = - np.sum(np.dot(y_new.T,np.log(y_pred)+ np.dot((1-y_new).T,np.log(1-y_pred)))) /(len(y_pred))\n",
        "    if(abs(costp-cost)<threshold):  #threshold condition\n",
        "      break\n",
        "\n",
        "  return (y_pred,beta_pred,cost)\n",
        "\n",
        "\n",
        "ler=0.001\n",
        "iter=10\n",
        "threshold=0.003\n",
        "y_pred,beta_pred,cost=logistic_regression(h,y,ler,iter,threshold)\n",
        "beta_pred,cost"
      ]
    },
    {
      "cell_type": "markdown",
      "source": [
        "# QUES 3(PART A,CHANGING N)\n",
        "The number of independent variables in logistic regression can significantly influence model accuracy. Including relevant variables enhances the model's ability to capture meaningful relationships between features and the target variable, leading to improved accuracy. However, an excessive number of variables may result in overfitting, where the model fits the training data too closely but fails to generalize to new data. Multicollinearity, or high correlation among variables, can hinder accurate coefficient estimation. Adequate sample size is crucial for stable estimates, and high dimensionality poses challenges due to the curse of dimensionality. Striking a balance in model complexity is essential, and techniques such as feature selection and regularization can help manage the impact of a large number of variables on logistic regression accuracy."
      ],
      "metadata": {
        "id": "c2q20Q6oddA3"
      }
    },
    {
      "cell_type": "code",
      "execution_count": null,
      "metadata": {
        "colab": {
          "base_uri": "https://localhost:8080/",
          "height": 588
        },
        "id": "CUf1VquAYqDD",
        "outputId": "bb188aa5-d74e-403a-c7df-878a68a78b03"
      },
      "outputs": [
        {
          "output_type": "stream",
          "name": "stdout",
          "text": [
            "[0.37948462 0.43596206 0.30261256 0.17282855 0.27304638 0.31359428\n",
            " 0.28646297 0.29105285 0.17710715 0.2978379  0.37948462 0.30261256\n",
            " 0.27042475 0.35397869 0.30760425 0.29476847 0.32338879 0.33640248\n",
            " 0.33609342 0.34730562 0.37948462 0.30378083 0.34519475 0.3446015\n",
            " 0.35337713 0.37049958 0.37775067 0.33425481 0.35032005 0.35752118\n",
            " 0.35667643 0.34113054 0.30499989 0.34050724 0.32668209 0.34653945\n",
            " 0.33327581 0.33319457 0.2965116  0.33304384 0.35622921 0.35562778\n",
            " 0.35505337 0.31106004 0.31678252 0.33786967 0.36318186 0.34753779]\n"
          ]
        },
        {
          "output_type": "display_data",
          "data": {
            "text/plain": [
              "<Figure size 640x480 with 1 Axes>"
            ],
            "image/png": "[encoded data removed]"
          },
          "metadata": {}
        }
      ],
      "source": [
        "import matplotlib.pyplot as plt\n",
        "import numpy as np\n",
        "def get_current_error(y_pred,y): #to calculate mean square error\n",
        "   return np.square(np.subtract(y,y_pred)).mean()\n",
        "\n",
        "error=[]\n",
        "\n",
        "for j in range(5,100,2):\n",
        "\n",
        "  matrix,h,theta,y,beta=Data_set_log(j,5,0.5)\n",
        "  error=np.append(error,get_current_error(y_pred,y)) #append errors for different n\n",
        "\n",
        "print(error)\n",
        "\n",
        "plot = plt.figure('dependence') #plot the error vs n graph\n",
        "plt.plot(range(5,100,2),error, color='b')\n",
        "plt.xlabel('n')\n",
        "plt.ylabel('error')\n",
        "plot.show()"
      ]
    },
    {
      "cell_type": "markdown",
      "source": [
        "# PART B(CHANGING THETA)\n",
        "When θ is close to 0 or 1, it means that the probability of success or failure is highly certain.\n",
        "If the true θ aligns with the predicted probabilities, the model may have high accuracy. However, if θ is misestimated, accuracy could be compromised.\n",
        "The accuracy is generally maximized when the estimated\n",
        "θ closely approximates the true underlying probability of the event.\n",
        "The logistic regression model aims to estimate the optimal values for the coefficients, including θ, through the training process."
      ],
      "metadata": {
        "id": "vWCcp9Isd6ih"
      }
    },
    {
      "cell_type": "code",
      "source": [
        "import matplotlib.pyplot as plt\n",
        "import numpy as np\n",
        "def get_current_error(y_pred,y): #to find mean square error\n",
        "  return np.square(np.subtract(y,y_pred)).mean()\n",
        "\n",
        "error=[]\n",
        "i=0.0\n",
        "while(i<1.0):\n",
        "  matrix,h,theta,y,beta=Data_set_log(7,5,i)\n",
        "  error=np.append(error,get_current_error(y_pred,y)) #append the values of errors for different values of theta\n",
        "  i=i+0.1\n",
        "\n",
        "print(error)\n",
        "\n",
        "value=np.arange(0.0,1.1,0.1) #plot error vs theta graph\n",
        "plot = plt.figure('dependence')\n",
        "plt.plot(value,error, color='b')\n",
        "plt.xlabel('theta')\n",
        "plt.ylabel('error')\n",
        "plot.show()"
      ],
      "metadata": {
        "colab": {
          "base_uri": "https://localhost:8080/",
          "height": 484
        },
        "id": "ivaSlBQsirSw",
        "outputId": "298755b1-6b9f-4a37-c2e0-7e4efe33d8eb"
      },
      "execution_count": null,
      "outputs": [
        {
          "output_type": "stream",
          "name": "stdout",
          "text": [
            "[0.29476847 0.29476847 0.22417168 0.50655885 0.29476847 0.29476847\n",
            " 0.29476847 0.29476847 0.43596206 0.15357488 0.36536526]\n"
          ]
        },
        {
          "output_type": "display_data",
          "data": {
            "text/plain": [
              "<Figure size 640x480 with 1 Axes>"
            ],
            "image/png": "[encoded data removed]"
          },
          "metadata": {}
        }
      ]
    },
    {
      "cell_type": "markdown",
      "source": [
        "# QUESTION 4\n",
        "\n",
        "Here the differnece in the cost is not much when regularisation is aaplied\n",
        "\n",
        "L1 Regularization (Lasso):\n",
        "\n",
        "Higher λ leads to more aggressive regularization.\n",
        "Can shrink some coefficients exactly to zero, performing feature selection.\n",
        "\n",
        "L2 Regularization (Ridge):\n",
        "\n",
        "Higher λ leads to more significant regularization.\n",
        "Encourages the model to distribute importance more evenly among features.\n",
        "\n",
        "The choice of the regularization constant (λ) influences the strength of regularization and the sparsity of the coefficients (L1) or the size of the coefficients (L2)\n",
        "\n",
        "\n"
      ],
      "metadata": {
        "id": "jVvVAlFV--OQ"
      }
    },
    {
      "cell_type": "code",
      "source": [
        "def regression(h,y,ler,iter,threshold,lambd,r):\n",
        "\n",
        "  beta_pred=2*np.random.rand(m,1)-1 #predicted vaue of beta\n",
        "  print(\"enter 1 for L1,enter 0 for L2\")\n",
        "  y_new = y.reshape(len(y),1) #transpose y\n",
        "  for i in range(iter):\n",
        "    y_pred=(1/(1+np.exp(-(np.matmul(h,beta_pred))))) #predicted value of y\n",
        "\n",
        "    if (r==1): #condition for applying L1\n",
        "      cost = - np.sum(np.dot(y_new.T,np.log(y_pred)+ np.dot((1-y_new).T,np.log(1-y_pred)))) /(len(y_pred))+lambd*np.sum(abs(beta_pred)) #add L1 parameter to cost\n",
        "      beta_pred  = beta_pred - (2/n)*np.matmul(h.T, (y_pred - y.reshape(len(y),1)))\n",
        "      y_pred_p=(1/(1+np.exp(-(np.matmul(h,beta_pred)))))\n",
        "      costp = - np.sum(np.dot(y_new.T,np.log(y_pred)+ np.dot((1-y_new).T,np.log(1-y_pred)))) /(len(y_pred))+lambd*np.sum(abs(beta_pred))\n",
        "\n",
        "\n",
        "    else: #condition for applying L2\n",
        "\n",
        "      cost = - np.sum(np.dot(y_new.T,np.log(y_pred)+ np.dot((1-y_new).T,np.log(1-y_pred)))) /(len(y_pred))+lambd*np.sum((beta_pred)**2) #add L2 parameter to cost\n",
        "      beta_pred  = beta_pred - (2/n)*np.matmul(h.T, (y_pred - y.reshape(len(y),1)))\n",
        "      y_pred_p=(1/(1+np.exp(-(np.matmul(h,beta_pred)))))\n",
        "      costp = - np.sum(np.dot(y_new.T,np.log(y_pred)+ np.dot((1-y_new).T,np.log(1-y_pred)))) /(len(y_pred))+lambd*np.sum((beta_pred)**2)\n",
        "\n",
        "    if(abs(costp-cost)<threshold): #thershold condition\n",
        "      break\n",
        "\n",
        "  return (y_pred,beta_pred,cost)\n",
        "\n",
        "\n",
        "ler=0.001\n",
        "iter=10\n",
        "threshold=0.0003\n",
        "lambd=0.2\n",
        "r=1\n",
        "y_pred,beta_pred,cost=regression(h,y,ler,iter,threshold,lambd,r)\n",
        "beta_pred,cost"
      ],
      "metadata": {
        "colab": {
          "base_uri": "https://localhost:8080/"
        },
        "id": "SnVZ2KtTpWj2",
        "outputId": "6fd80297-1dab-4101-eee7-0a989067533c"
      },
      "execution_count": null,
      "outputs": [
        {
          "output_type": "stream",
          "name": "stdout",
          "text": [
            "enter 1 for L1,enter 0 for L2\n"
          ]
        },
        {
          "output_type": "execute_result",
          "data": {
            "text/plain": [
              "(array([[-0.42845457],\n",
              "        [-0.6044911 ],\n",
              "        [-2.00037616],\n",
              "        [-0.38988259],\n",
              "        [ 1.21128547]]),\n",
              " 1.5765253725418695)"
            ]
          },
          "metadata": {},
          "execution_count": 170
        }
      ]
    },
    {
      "cell_type": "markdown",
      "source": [
        "# QUESTION 5"
      ],
      "metadata": {
        "id": "jnCRfZnjf_LN"
      }
    },
    {
      "cell_type": "code",
      "source": [
        "import numpy as np\n",
        "import pandas as pd\n",
        "import matplotlib.pyplot as plt\n",
        "\n",
        "class compilation: #creating class\n",
        "\n",
        "  def Data_set(self,n,s,m):\n",
        "\n",
        "    x=np.random.rand(n,m-1)\n",
        "    x1=np.ones((n,1))\n",
        "    h=np.concatenate((x1,x),axis=1)\n",
        "    beta=np.random.rand(m,1)\n",
        "    y=np.matmul(h,beta)+np.random.normal(0,s,size=(n,1))\n",
        "    mat=np.concatenate((h,y),axis=1)\n",
        "    matrix=pd.DataFrame(\n",
        "        data=mat,columns=  [f\"x{i+1}\" for i in range(m)]+[\"y\"])\n",
        "\n",
        "\n",
        "    return matrix,h,y,beta\n",
        "\n",
        "\n",
        "\n",
        "\n",
        "\n",
        "\n",
        "  def linear_regression(self,h,y,ler,iter,threshold):\n",
        "\n",
        "   beta_pred=np.random.rand(m,1)\n",
        "\n",
        "   for i in range(iter):\n",
        "    y_pred=np.matmul(h,beta_pred)\n",
        "    cost = (1 / n) * (np.sum(y_pred - y)**2)\n",
        "    beta_pred  = beta_pred - (ler * ((1/n)*np.matmul(h.T, y_pred - y)))\n",
        "    y_pred_p=np.matmul(h,beta_pred)\n",
        "    costp = (1 /n) * (np.sum(y_pred_p - y)**2)\n",
        "\n",
        "    if(abs(costp-cost)<threshold):\n",
        "      break\n",
        "\n",
        "   return (y_pred,beta_pred,cost)\n",
        "\n",
        "\n",
        "\n",
        "\n",
        "\n",
        "  def Data_set_log(self,n,m,theta):\n",
        "\n",
        "    x=2 * np.random.random_sample(size=(n,m-1)) - 1\n",
        "    x1=np.ones((n,1))\n",
        "    h=np.concatenate((x1,x),axis=1)\n",
        "    beta=2 * np.random.random_sample((m,1)) - 1\n",
        "    tup=(1/(1+np.exp(-(np.matmul(h,beta)))))\n",
        "    y=[]\n",
        "    ber=np.random.binomial(1,theta,size=(n,1))\n",
        "    for i in range(len(tup)):\n",
        "      if (tup[i]>0.5):\n",
        "        y=np.append(y,[1])\n",
        "        if(ber[i]==1):\n",
        "          y[i]=0\n",
        "      else:\n",
        "       y=np.append(y,[0])\n",
        "       if(ber[i]==1):\n",
        "          y[i]=1\n",
        "\n",
        "    mat=np.concatenate((h,y.reshape(n,1)),axis=1)\n",
        "    matrix=pd.DataFrame(\n",
        "        data=mat,columns= [f\"x{i+1}\" for i in range(m)]+[\"y\"]\n",
        "    )\n",
        "    return matrix,h,theta,y,beta\n",
        "\n",
        "\n",
        "\n",
        "\n",
        "\n",
        "\n",
        "  def logistic_regression(self,h,y,ler,iter,threshold):\n",
        "    beta_pred=2*np.random.rand(m,1)-1\n",
        "    y_new = y.reshape(len(y),1)\n",
        "    for i in range(iter):\n",
        "      y_pred=(1/(1+np.exp(-(np.matmul(h,beta_pred)))))\n",
        "\n",
        "      cost = - np.sum(np.dot(y_new.T,np.log(y_pred)+ np.dot((1-y_new).T,np.log(1-y_pred)))) /(len(y_pred))\n",
        "      beta_pred  = beta_pred - (2/n)*np.matmul(h.T, (y_pred - y.reshape(len(y),1)))\n",
        "      y_pred_p=(1/(1+np.exp(-(np.matmul(h,beta_pred)))))\n",
        "      costp = - np.sum(np.dot(y_new.T,np.log(y_pred)+ np.dot((1-y_new).T,np.log(1-y_pred)))) /(len(y_pred))\n",
        "      if(abs(costp-cost)<threshold):\n",
        "       break\n",
        "\n",
        "    return (y_pred,beta_pred,cost)\n",
        "\n",
        "\n",
        "\n",
        "\n",
        "\n",
        "reg= compilation() #object creation\n",
        "reg.linear_regression(h,y,0.01,100,0.003)\n",
        "\n"
      ],
      "metadata": {
        "colab": {
          "base_uri": "https://localhost:8080/"
        },
        "id": "4uROrkYWqXtl",
        "outputId": "11dcd7e8-5e8e-4d78-e1eb-6b56cebda60c"
      },
      "execution_count": null,
      "outputs": [
        {
          "output_type": "execute_result",
          "data": {
            "text/plain": [
              "(array([[-0.00363814,  0.99843103, -0.00363814, ..., -0.00363814,\n",
              "          0.99843103, -0.00363814],\n",
              "        [ 0.00288827,  1.00012362,  0.00288827, ...,  0.00288827,\n",
              "          1.00012362,  0.00288827],\n",
              "        [-0.002017  ,  0.99987958, -0.002017  , ..., -0.002017  ,\n",
              "          0.99987958, -0.002017  ],\n",
              "        ...,\n",
              "        [ 0.00421274,  1.00281285,  0.00421274, ...,  0.00421274,\n",
              "          1.00281285,  0.00421274],\n",
              "        [-0.0012004 ,  0.99777094, -0.0012004 , ..., -0.0012004 ,\n",
              "          0.99777094, -0.0012004 ],\n",
              "        [ 0.00127204,  1.00119313,  0.00127204, ...,  0.00127204,\n",
              "          1.00119313,  0.00127204]]),\n",
              " array([[0.00117562, 1.00052102, 0.00117562, 1.00052102, 1.00052102,\n",
              "         0.00117562, 0.00117562, 0.00117562, 1.00052102, 1.00052102,\n",
              "         1.00052102, 1.00052102, 0.00117562, 0.00117562, 0.00117562,\n",
              "         1.00052102, 0.00117562, 1.00052102, 0.00117562, 0.00117562,\n",
              "         0.00117562, 0.00117562, 1.00052102, 1.00052102, 1.00052102,\n",
              "         0.00117562, 0.00117562, 0.00117562, 1.00052102, 1.00052102,\n",
              "         0.00117562, 0.00117562, 1.00052102, 1.00052102, 1.00052102,\n",
              "         0.00117562, 0.00117562, 1.00052102, 1.00052102, 1.00052102,\n",
              "         0.00117562, 0.00117562, 1.00052102, 1.00052102, 1.00052102,\n",
              "         1.00052102, 1.00052102, 1.00052102, 0.00117562, 0.00117562,\n",
              "         0.00117562, 0.00117562, 1.00052102, 1.00052102, 1.00052102,\n",
              "         1.00052102, 0.00117562, 0.00117562, 0.00117562, 1.00052102,\n",
              "         0.00117562, 0.00117562, 1.00052102, 1.00052102, 1.00052102,\n",
              "         0.00117562, 0.00117562, 1.00052102, 1.00052102, 1.00052102,\n",
              "         0.00117562, 1.00052102, 1.00052102, 0.00117562, 1.00052102,\n",
              "         0.00117562, 0.00117562, 0.00117562, 1.00052102, 1.00052102,\n",
              "         1.00052102, 1.00052102, 0.00117562, 1.00052102, 1.00052102,\n",
              "         1.00052102, 1.00052102, 0.00117562, 0.00117562, 0.00117562,\n",
              "         0.00117562, 1.00052102, 1.00052102, 0.00117562, 1.00052102,\n",
              "         1.00052102, 0.00117562, 1.00052102, 0.00117562],\n",
              "        [0.00277112, 0.00207376, 0.00277112, 0.00207376, 0.00207376,\n",
              "         0.00277112, 0.00277112, 0.00277112, 0.00207376, 0.00207376,\n",
              "         0.00207376, 0.00207376, 0.00277112, 0.00277112, 0.00277112,\n",
              "         0.00207376, 0.00277112, 0.00207376, 0.00277112, 0.00277112,\n",
              "         0.00277112, 0.00277112, 0.00207376, 0.00207376, 0.00207376,\n",
              "         0.00277112, 0.00277112, 0.00277112, 0.00207376, 0.00207376,\n",
              "         0.00277112, 0.00277112, 0.00207376, 0.00207376, 0.00207376,\n",
              "         0.00277112, 0.00277112, 0.00207376, 0.00207376, 0.00207376,\n",
              "         0.00277112, 0.00277112, 0.00207376, 0.00207376, 0.00207376,\n",
              "         0.00207376, 0.00207376, 0.00207376, 0.00277112, 0.00277112,\n",
              "         0.00277112, 0.00277112, 0.00207376, 0.00207376, 0.00207376,\n",
              "         0.00207376, 0.00277112, 0.00277112, 0.00277112, 0.00207376,\n",
              "         0.00277112, 0.00277112, 0.00207376, 0.00207376, 0.00207376,\n",
              "         0.00277112, 0.00277112, 0.00207376, 0.00207376, 0.00207376,\n",
              "         0.00277112, 0.00207376, 0.00207376, 0.00277112, 0.00207376,\n",
              "         0.00277112, 0.00277112, 0.00277112, 0.00207376, 0.00207376,\n",
              "         0.00207376, 0.00207376, 0.00277112, 0.00207376, 0.00207376,\n",
              "         0.00207376, 0.00207376, 0.00277112, 0.00277112, 0.00277112,\n",
              "         0.00277112, 0.00207376, 0.00207376, 0.00277112, 0.00207376,\n",
              "         0.00207376, 0.00277112, 0.00207376, 0.00277112],\n",
              "        [0.00688221, 0.00387634, 0.00688221, 0.00387634, 0.00387634,\n",
              "         0.00688221, 0.00688221, 0.00688221, 0.00387634, 0.00387634,\n",
              "         0.00387634, 0.00387634, 0.00688221, 0.00688221, 0.00688221,\n",
              "         0.00387634, 0.00688221, 0.00387634, 0.00688221, 0.00688221,\n",
              "         0.00688221, 0.00688221, 0.00387634, 0.00387634, 0.00387634,\n",
              "         0.00688221, 0.00688221, 0.00688221, 0.00387634, 0.00387634,\n",
              "         0.00688221, 0.00688221, 0.00387634, 0.00387634, 0.00387634,\n",
              "         0.00688221, 0.00688221, 0.00387634, 0.00387634, 0.00387634,\n",
              "         0.00688221, 0.00688221, 0.00387634, 0.00387634, 0.00387634,\n",
              "         0.00387634, 0.00387634, 0.00387634, 0.00688221, 0.00688221,\n",
              "         0.00688221, 0.00688221, 0.00387634, 0.00387634, 0.00387634,\n",
              "         0.00387634, 0.00688221, 0.00688221, 0.00688221, 0.00387634,\n",
              "         0.00688221, 0.00688221, 0.00387634, 0.00387634, 0.00387634,\n",
              "         0.00688221, 0.00688221, 0.00387634, 0.00387634, 0.00387634,\n",
              "         0.00688221, 0.00387634, 0.00387634, 0.00688221, 0.00387634,\n",
              "         0.00688221, 0.00688221, 0.00688221, 0.00387634, 0.00387634,\n",
              "         0.00387634, 0.00387634, 0.00688221, 0.00387634, 0.00387634,\n",
              "         0.00387634, 0.00387634, 0.00688221, 0.00688221, 0.00688221,\n",
              "         0.00688221, 0.00387634, 0.00387634, 0.00688221, 0.00387634,\n",
              "         0.00387634, 0.00688221, 0.00387634, 0.00688221],\n",
              "        [0.00105301, 0.00245026, 0.00105301, 0.00245026, 0.00245026,\n",
              "         0.00105301, 0.00105301, 0.00105301, 0.00245026, 0.00245026,\n",
              "         0.00245026, 0.00245026, 0.00105301, 0.00105301, 0.00105301,\n",
              "         0.00245026, 0.00105301, 0.00245026, 0.00105301, 0.00105301,\n",
              "         0.00105301, 0.00105301, 0.00245026, 0.00245026, 0.00245026,\n",
              "         0.00105301, 0.00105301, 0.00105301, 0.00245026, 0.00245026,\n",
              "         0.00105301, 0.00105301, 0.00245026, 0.00245026, 0.00245026,\n",
              "         0.00105301, 0.00105301, 0.00245026, 0.00245026, 0.00245026,\n",
              "         0.00105301, 0.00105301, 0.00245026, 0.00245026, 0.00245026,\n",
              "         0.00245026, 0.00245026, 0.00245026, 0.00105301, 0.00105301,\n",
              "         0.00105301, 0.00105301, 0.00245026, 0.00245026, 0.00245026,\n",
              "         0.00245026, 0.00105301, 0.00105301, 0.00105301, 0.00245026,\n",
              "         0.00105301, 0.00105301, 0.00245026, 0.00245026, 0.00245026,\n",
              "         0.00105301, 0.00105301, 0.00245026, 0.00245026, 0.00245026,\n",
              "         0.00105301, 0.00245026, 0.00245026, 0.00105301, 0.00245026,\n",
              "         0.00105301, 0.00105301, 0.00105301, 0.00245026, 0.00245026,\n",
              "         0.00245026, 0.00245026, 0.00105301, 0.00245026, 0.00245026,\n",
              "         0.00245026, 0.00245026, 0.00105301, 0.00105301, 0.00105301,\n",
              "         0.00105301, 0.00245026, 0.00245026, 0.00105301, 0.00245026,\n",
              "         0.00245026, 0.00105301, 0.00245026, 0.00105301],\n",
              "        [0.00330739, 0.00161118, 0.00330739, 0.00161118, 0.00161118,\n",
              "         0.00330739, 0.00330739, 0.00330739, 0.00161118, 0.00161118,\n",
              "         0.00161118, 0.00161118, 0.00330739, 0.00330739, 0.00330739,\n",
              "         0.00161118, 0.00330739, 0.00161118, 0.00330739, 0.00330739,\n",
              "         0.00330739, 0.00330739, 0.00161118, 0.00161118, 0.00161118,\n",
              "         0.00330739, 0.00330739, 0.00330739, 0.00161118, 0.00161118,\n",
              "         0.00330739, 0.00330739, 0.00161118, 0.00161118, 0.00161118,\n",
              "         0.00330739, 0.00330739, 0.00161118, 0.00161118, 0.00161118,\n",
              "         0.00330739, 0.00330739, 0.00161118, 0.00161118, 0.00161118,\n",
              "         0.00161118, 0.00161118, 0.00161118, 0.00330739, 0.00330739,\n",
              "         0.00330739, 0.00330739, 0.00161118, 0.00161118, 0.00161118,\n",
              "         0.00161118, 0.00330739, 0.00330739, 0.00330739, 0.00161118,\n",
              "         0.00330739, 0.00330739, 0.00161118, 0.00161118, 0.00161118,\n",
              "         0.00330739, 0.00330739, 0.00161118, 0.00161118, 0.00161118,\n",
              "         0.00330739, 0.00161118, 0.00161118, 0.00330739, 0.00161118,\n",
              "         0.00330739, 0.00330739, 0.00330739, 0.00161118, 0.00161118,\n",
              "         0.00161118, 0.00161118, 0.00330739, 0.00161118, 0.00161118,\n",
              "         0.00161118, 0.00161118, 0.00330739, 0.00330739, 0.00330739,\n",
              "         0.00330739, 0.00161118, 0.00161118, 0.00330739, 0.00161118,\n",
              "         0.00161118, 0.00330739, 0.00161118, 0.00330739]]),\n",
              " 0.70700013148113)"
            ]
          },
          "metadata": {},
          "execution_count": 137
        }
      ]
    }
  ],
  "metadata": {
    "colab": {
      "provenance": []
    },
    "kernelspec": {
      "display_name": "Python 3",
      "name": "python3"
    },
    "language_info": {
      "name": "python"
    }
  },
  "nbformat": 4,
  "nbformat_minor": 0
}